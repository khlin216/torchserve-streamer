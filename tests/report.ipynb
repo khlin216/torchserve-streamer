{
 "cells": [
  {
   "cell_type": "code",
   "execution_count": 1,
   "id": "207f00f1",
   "metadata": {},
   "outputs": [],
   "source": [
    "import json\n",
    "import os\n",
    "import pandas as pd\n",
    "\n",
    "experiments = list(os.walk(\"./experiments\"))[0][-1]"
   ]
  },
  {
   "cell_type": "code",
   "execution_count": 2,
   "id": "0e0167a9",
   "metadata": {},
   "outputs": [],
   "source": [
    "experiments = ['3000-0-0.json']"
   ]
  },
  {
   "cell_type": "code",
   "execution_count": 3,
   "id": "9dcbc6b3",
   "metadata": {},
   "outputs": [
    {
     "name": "stdout",
     "output_type": "stream",
     "text": [
      "   workers  response_time  success\n",
      "0      0.0      23.626648      1.0\n",
      "1      1.0      23.631362      1.0\n",
      "2      2.0      23.649729      1.0\n",
      "3      3.0      23.646584      1.0\n",
      "4      4.0      23.637657      1.0\n"
     ]
    },
    {
     "data": {
      "text/html": [
       "<div>\n",
       "<style scoped>\n",
       "    .dataframe tbody tr th:only-of-type {\n",
       "        vertical-align: middle;\n",
       "    }\n",
       "\n",
       "    .dataframe tbody tr th {\n",
       "        vertical-align: top;\n",
       "    }\n",
       "\n",
       "    .dataframe thead th {\n",
       "        text-align: right;\n",
       "    }\n",
       "</style>\n",
       "<table border=\"1\" class=\"dataframe\">\n",
       "  <thead>\n",
       "    <tr style=\"text-align: right;\">\n",
       "      <th></th>\n",
       "      <th>workers</th>\n",
       "      <th>response_time</th>\n",
       "      <th>success</th>\n",
       "    </tr>\n",
       "  </thead>\n",
       "  <tbody>\n",
       "    <tr>\n",
       "      <th>count</th>\n",
       "      <td>536.000000</td>\n",
       "      <td>536.000000</td>\n",
       "      <td>536.0</td>\n",
       "    </tr>\n",
       "    <tr>\n",
       "      <th>mean</th>\n",
       "      <td>267.511194</td>\n",
       "      <td>23.912604</td>\n",
       "      <td>1.0</td>\n",
       "    </tr>\n",
       "    <tr>\n",
       "      <th>std</th>\n",
       "      <td>154.893367</td>\n",
       "      <td>2.011144</td>\n",
       "      <td>0.0</td>\n",
       "    </tr>\n",
       "    <tr>\n",
       "      <th>min</th>\n",
       "      <td>0.000000</td>\n",
       "      <td>19.949285</td>\n",
       "      <td>1.0</td>\n",
       "    </tr>\n",
       "    <tr>\n",
       "      <th>25%</th>\n",
       "      <td>133.750000</td>\n",
       "      <td>23.460890</td>\n",
       "      <td>1.0</td>\n",
       "    </tr>\n",
       "    <tr>\n",
       "      <th>50%</th>\n",
       "      <td>267.500000</td>\n",
       "      <td>23.619048</td>\n",
       "      <td>1.0</td>\n",
       "    </tr>\n",
       "    <tr>\n",
       "      <th>75%</th>\n",
       "      <td>401.250000</td>\n",
       "      <td>25.329164</td>\n",
       "      <td>1.0</td>\n",
       "    </tr>\n",
       "    <tr>\n",
       "      <th>max</th>\n",
       "      <td>536.000000</td>\n",
       "      <td>26.243829</td>\n",
       "      <td>1.0</td>\n",
       "    </tr>\n",
       "  </tbody>\n",
       "</table>\n",
       "</div>"
      ],
      "text/plain": [
       "          workers  response_time  success\n",
       "count  536.000000     536.000000    536.0\n",
       "mean   267.511194      23.912604      1.0\n",
       "std    154.893367       2.011144      0.0\n",
       "min      0.000000      19.949285      1.0\n",
       "25%    133.750000      23.460890      1.0\n",
       "50%    267.500000      23.619048      1.0\n",
       "75%    401.250000      25.329164      1.0\n",
       "max    536.000000      26.243829      1.0"
      ]
     },
     "execution_count": 3,
     "metadata": {},
     "output_type": "execute_result"
    }
   ],
   "source": [
    "df = [{\n",
    "            \"workers\" : [],\n",
    "            \"response_time\" : [],\n",
    "            \"success\" : []\n",
    "}]\n",
    "for experiment in experiments:\n",
    "    #print(experiment)\n",
    "    logs = json.load(\n",
    "        open(f\"./experiments/{experiment}\", \"r\")\n",
    "    )\n",
    "   \n",
    "    for log in logs:\n",
    "        #print(log)\n",
    "        try:\n",
    "            nw = log[\"thread_id\"]\n",
    "            #print(nw)\n",
    "        except:\n",
    "            #print(log, experiment)\n",
    "            continue\n",
    "        #print(log)\n",
    "        rt = log[\"response_time\"]\n",
    "        success = 1 if log[\"msg\"] == \"success\" else 0\n",
    "        df.append({\n",
    "            \"workers\" : [nw],\n",
    "            \"response_time\" : [rt],\n",
    "            \"success\" : [success]\n",
    "        })\n",
    "        #print(df)\n",
    "df = pd.concat([pd.DataFrame(i) for i in df],\n",
    "          ignore_index=True)\n",
    "print(df.head())\n",
    "df[df.success == 1].describe()"
   ]
  },
  {
   "cell_type": "code",
   "execution_count": null,
   "id": "6a9d36a3",
   "metadata": {},
   "outputs": [],
   "source": [
    "stats = df.groupby(\"workers\").mean()\n",
    "stats[\"min_time\"] = df.groupby(\"workers\").min()[\"response_time\"]\n",
    "\n",
    "stats[\"mean_time\"] = stats[\"response_time\"]\n",
    "del stats[\"response_time\"]\n",
    "stats[\"max_time\"] = df.groupby(\"workers\").max()[\"response_time\"]\n",
    "\n",
    "stats[\"standard_deviation\"] = df.groupby(\"workers\").std()[\"response_time\"]\n",
    "stats"
   ]
  },
  {
   "cell_type": "code",
   "execution_count": null,
   "id": "bbad27c5",
   "metadata": {},
   "outputs": [],
   "source": [
    "stats"
   ]
  },
  {
   "cell_type": "code",
   "execution_count": 7,
   "id": "c9df6dea",
   "metadata": {},
   "outputs": [
    {
     "data": {
      "text/html": [
       "<div>\n",
       "<style scoped>\n",
       "    .dataframe tbody tr th:only-of-type {\n",
       "        vertical-align: middle;\n",
       "    }\n",
       "\n",
       "    .dataframe tbody tr th {\n",
       "        vertical-align: top;\n",
       "    }\n",
       "\n",
       "    .dataframe thead th {\n",
       "        text-align: right;\n",
       "    }\n",
       "</style>\n",
       "<table border=\"1\" class=\"dataframe\">\n",
       "  <thead>\n",
       "    <tr style=\"text-align: right;\">\n",
       "      <th></th>\n",
       "      <th>success</th>\n",
       "      <th>min_time</th>\n",
       "      <th>mean_time</th>\n",
       "      <th>max_time</th>\n",
       "      <th>standard_deviation</th>\n",
       "    </tr>\n",
       "    <tr>\n",
       "      <th>workers</th>\n",
       "      <th></th>\n",
       "      <th></th>\n",
       "      <th></th>\n",
       "      <th></th>\n",
       "      <th></th>\n",
       "    </tr>\n",
       "  </thead>\n",
       "  <tbody>\n",
       "    <tr>\n",
       "      <th>120.0</th>\n",
       "      <td>1.0</td>\n",
       "      <td>1.768117</td>\n",
       "      <td>2.619451</td>\n",
       "      <td>4.090172</td>\n",
       "      <td>0.738905</td>\n",
       "    </tr>\n",
       "  </tbody>\n",
       "</table>\n",
       "</div>"
      ],
      "text/plain": [
       "         success  min_time  mean_time  max_time  standard_deviation\n",
       "workers                                                            \n",
       "120.0        1.0  1.768117   2.619451  4.090172            0.738905"
      ]
     },
     "execution_count": 7,
     "metadata": {},
     "output_type": "execute_result"
    }
   ],
   "source": [
    "# two endpoints BS = 1\n",
    "stats\n"
   ]
  },
  {
   "cell_type": "code",
   "execution_count": 8,
   "id": "341ecb9a",
   "metadata": {},
   "outputs": [
    {
     "data": {
      "text/plain": [
       "workers\n",
       "120.0    4.090172\n",
       "Name: response_time, dtype: float64"
      ]
     },
     "execution_count": 8,
     "metadata": {},
     "output_type": "execute_result"
    }
   ],
   "source": [
    "df.groupby(\"workers\").max()[\"response_time\"]"
   ]
  },
  {
   "cell_type": "markdown",
   "id": "2b89587c",
   "metadata": {},
   "source": [
    "Old results before parallelization \n",
    "\n",
    "|workers|response_time|success|\n",
    "|---|---|---|\n",
    "|1| 11.378659|1.000000|\n",
    "|2\t|19.046033\t|1.000000|\n",
    "|4\t|40.281013|\t1.000000|\n",
    "|8|\t84.252928\t|1.000000|\n",
    "|16\t|164.951096|\t1.000000|\n",
    "|32|\t327.317170|\t1.000000|\n",
    "|64|\t655.830740|\t1.000000|\n",
    "|128\t|40.344384\t|0.014354|\n",
    "|256|\t28.654330|\t0.000000|\n",
    "|512|\t0.294644|\t0.000000|"
   ]
  }
 ],
 "metadata": {
  "interpreter": {
   "hash": "916dbcbb3f70747c44a77c7bcd40155683ae19c65e1c03b4aa3499c5328201f1"
  },
  "kernelspec": {
   "display_name": "Python 3 (ipykernel)",
   "language": "python",
   "name": "python3"
  },
  "language_info": {
   "codemirror_mode": {
    "name": "ipython",
    "version": 3
   },
   "file_extension": ".py",
   "mimetype": "text/x-python",
   "name": "python",
   "nbconvert_exporter": "python",
   "pygments_lexer": "ipython3",
   "version": "3.9.7"
  }
 },
 "nbformat": 4,
 "nbformat_minor": 5
}
