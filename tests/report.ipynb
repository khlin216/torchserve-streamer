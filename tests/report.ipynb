{
 "cells": [
  {
   "cell_type": "code",
   "execution_count": 1,
   "metadata": {},
   "outputs": [],
   "source": [
    "import json\n",
    "import os\n",
    "import pandas as pd\n",
    "\n",
    "experiments = list(os.walk(\"./experiments\"))[0][-1]"
   ]
  },
  {
   "cell_type": "code",
   "execution_count": 18,
   "metadata": {},
   "outputs": [],
   "source": [
    "experiments = ['200-0-0.json']"
   ]
  },
  {
   "cell_type": "code",
   "execution_count": 23,
   "metadata": {},
   "outputs": [
    {
     "data": {
      "text/html": [
       "<div>\n",
       "<style scoped>\n",
       "    .dataframe tbody tr th:only-of-type {\n",
       "        vertical-align: middle;\n",
       "    }\n",
       "\n",
       "    .dataframe tbody tr th {\n",
       "        vertical-align: top;\n",
       "    }\n",
       "\n",
       "    .dataframe thead th {\n",
       "        text-align: right;\n",
       "    }\n",
       "</style>\n",
       "<table border=\"1\" class=\"dataframe\">\n",
       "  <thead>\n",
       "    <tr style=\"text-align: right;\">\n",
       "      <th></th>\n",
       "      <th>workers</th>\n",
       "      <th>response_time</th>\n",
       "      <th>success</th>\n",
       "    </tr>\n",
       "  </thead>\n",
       "  <tbody>\n",
       "    <tr>\n",
       "      <th>count</th>\n",
       "      <td>100.000000</td>\n",
       "      <td>100.000000</td>\n",
       "      <td>100.0</td>\n",
       "    </tr>\n",
       "    <tr>\n",
       "      <th>mean</th>\n",
       "      <td>49.500000</td>\n",
       "      <td>1.926527</td>\n",
       "      <td>1.0</td>\n",
       "    </tr>\n",
       "    <tr>\n",
       "      <th>std</th>\n",
       "      <td>29.011492</td>\n",
       "      <td>0.418067</td>\n",
       "      <td>0.0</td>\n",
       "    </tr>\n",
       "    <tr>\n",
       "      <th>min</th>\n",
       "      <td>0.000000</td>\n",
       "      <td>1.193945</td>\n",
       "      <td>1.0</td>\n",
       "    </tr>\n",
       "    <tr>\n",
       "      <th>25%</th>\n",
       "      <td>24.750000</td>\n",
       "      <td>1.538216</td>\n",
       "      <td>1.0</td>\n",
       "    </tr>\n",
       "    <tr>\n",
       "      <th>50%</th>\n",
       "      <td>49.500000</td>\n",
       "      <td>1.955185</td>\n",
       "      <td>1.0</td>\n",
       "    </tr>\n",
       "    <tr>\n",
       "      <th>75%</th>\n",
       "      <td>74.250000</td>\n",
       "      <td>2.358626</td>\n",
       "      <td>1.0</td>\n",
       "    </tr>\n",
       "    <tr>\n",
       "      <th>max</th>\n",
       "      <td>99.000000</td>\n",
       "      <td>2.551235</td>\n",
       "      <td>1.0</td>\n",
       "    </tr>\n",
       "  </tbody>\n",
       "</table>\n",
       "</div>"
      ],
      "text/plain": [
       "          workers  response_time  success\n",
       "count  100.000000     100.000000    100.0\n",
       "mean    49.500000       1.926527      1.0\n",
       "std     29.011492       0.418067      0.0\n",
       "min      0.000000       1.193945      1.0\n",
       "25%     24.750000       1.538216      1.0\n",
       "50%     49.500000       1.955185      1.0\n",
       "75%     74.250000       2.358626      1.0\n",
       "max     99.000000       2.551235      1.0"
      ]
     },
     "execution_count": 23,
     "metadata": {},
     "output_type": "execute_result"
    }
   ],
   "source": [
    "df = [{\n",
    "            \"workers\" : [],\n",
    "            \"response_time\" : [],\n",
    "            \"success\" : []\n",
    "}]\n",
    "for experiment in experiments:\n",
    "    #print(experiment)\n",
    "    logs = json.load(\n",
    "        open(f\"./experiments/{experiment}\", \"r\")\n",
    "    )\n",
    "   \n",
    "    for log in logs:\n",
    "        #print(log)\n",
    "        try:\n",
    "            nw = log[\"thread_id\"]\n",
    "            #print(nw)\n",
    "        except:\n",
    "            #print(log, experiment)\n",
    "            continue\n",
    "        #print(log)\n",
    "        rt = log[\"response_time\"]\n",
    "        success = 1 if log[\"msg\"] == \"success\" else 0\n",
    "        df.append({\n",
    "            \"workers\" : [nw],\n",
    "            \"response_time\" : [rt],\n",
    "            \"success\" : [success]\n",
    "        })\n",
    "        #print(df)\n",
    "df = pd.concat([pd.DataFrame(i) for i in df],\n",
    "          ignore_index=True)\n",
    "df[df.success == 1].describe()"
   ]
  },
  {
   "cell_type": "code",
   "execution_count": 5,
   "metadata": {},
   "outputs": [
    {
     "data": {
      "text/html": [
       "<div>\n",
       "<style scoped>\n",
       "    .dataframe tbody tr th:only-of-type {\n",
       "        vertical-align: middle;\n",
       "    }\n",
       "\n",
       "    .dataframe tbody tr th {\n",
       "        vertical-align: top;\n",
       "    }\n",
       "\n",
       "    .dataframe thead th {\n",
       "        text-align: right;\n",
       "    }\n",
       "</style>\n",
       "<table border=\"1\" class=\"dataframe\">\n",
       "  <thead>\n",
       "    <tr style=\"text-align: right;\">\n",
       "      <th></th>\n",
       "      <th>success</th>\n",
       "      <th>min_time</th>\n",
       "      <th>mean_time</th>\n",
       "      <th>max_time</th>\n",
       "      <th>standard_deviation</th>\n",
       "    </tr>\n",
       "    <tr>\n",
       "      <th>workers</th>\n",
       "      <th></th>\n",
       "      <th></th>\n",
       "      <th></th>\n",
       "      <th></th>\n",
       "      <th></th>\n",
       "    </tr>\n",
       "  </thead>\n",
       "  <tbody>\n",
       "    <tr>\n",
       "      <th>1000.0</th>\n",
       "      <td>0.279</td>\n",
       "      <td>0.591944</td>\n",
       "      <td>20.885577</td>\n",
       "      <td>39.949957</td>\n",
       "      <td>7.173435</td>\n",
       "    </tr>\n",
       "  </tbody>\n",
       "</table>\n",
       "</div>"
      ],
      "text/plain": [
       "         success  min_time  mean_time   max_time  standard_deviation\n",
       "workers                                                             \n",
       "1000.0     0.279  0.591944  20.885577  39.949957            7.173435"
      ]
     },
     "execution_count": 5,
     "metadata": {},
     "output_type": "execute_result"
    }
   ],
   "source": [
    "stats = df.groupby(\"workers\").mean()\n",
    "stats[\"min_time\"] = df.groupby(\"workers\").min()[\"response_time\"]\n",
    "\n",
    "stats[\"mean_time\"] = stats[\"response_time\"]\n",
    "del stats[\"response_time\"]\n",
    "stats[\"max_time\"] = df.groupby(\"workers\").max()[\"response_time\"]\n",
    "\n",
    "stats[\"standard_deviation\"] = df.groupby(\"workers\").std()[\"response_time\"]\n",
    "stats"
   ]
  },
  {
   "cell_type": "code",
   "execution_count": 6,
   "metadata": {},
   "outputs": [
    {
     "data": {
      "text/html": [
       "<div>\n",
       "<style scoped>\n",
       "    .dataframe tbody tr th:only-of-type {\n",
       "        vertical-align: middle;\n",
       "    }\n",
       "\n",
       "    .dataframe tbody tr th {\n",
       "        vertical-align: top;\n",
       "    }\n",
       "\n",
       "    .dataframe thead th {\n",
       "        text-align: right;\n",
       "    }\n",
       "</style>\n",
       "<table border=\"1\" class=\"dataframe\">\n",
       "  <thead>\n",
       "    <tr style=\"text-align: right;\">\n",
       "      <th></th>\n",
       "      <th>success</th>\n",
       "      <th>min_time</th>\n",
       "      <th>mean_time</th>\n",
       "      <th>max_time</th>\n",
       "      <th>standard_deviation</th>\n",
       "    </tr>\n",
       "    <tr>\n",
       "      <th>workers</th>\n",
       "      <th></th>\n",
       "      <th></th>\n",
       "      <th></th>\n",
       "      <th></th>\n",
       "      <th></th>\n",
       "    </tr>\n",
       "  </thead>\n",
       "  <tbody>\n",
       "    <tr>\n",
       "      <th>1000.0</th>\n",
       "      <td>0.279</td>\n",
       "      <td>0.591944</td>\n",
       "      <td>20.885577</td>\n",
       "      <td>39.949957</td>\n",
       "      <td>7.173435</td>\n",
       "    </tr>\n",
       "  </tbody>\n",
       "</table>\n",
       "</div>"
      ],
      "text/plain": [
       "         success  min_time  mean_time   max_time  standard_deviation\n",
       "workers                                                             \n",
       "1000.0     0.279  0.591944  20.885577  39.949957            7.173435"
      ]
     },
     "execution_count": 6,
     "metadata": {},
     "output_type": "execute_result"
    }
   ],
   "source": [
    "stats"
   ]
  },
  {
   "cell_type": "code",
   "execution_count": 7,
   "metadata": {},
   "outputs": [
    {
     "data": {
      "text/html": [
       "<div>\n",
       "<style scoped>\n",
       "    .dataframe tbody tr th:only-of-type {\n",
       "        vertical-align: middle;\n",
       "    }\n",
       "\n",
       "    .dataframe tbody tr th {\n",
       "        vertical-align: top;\n",
       "    }\n",
       "\n",
       "    .dataframe thead th {\n",
       "        text-align: right;\n",
       "    }\n",
       "</style>\n",
       "<table border=\"1\" class=\"dataframe\">\n",
       "  <thead>\n",
       "    <tr style=\"text-align: right;\">\n",
       "      <th></th>\n",
       "      <th>success</th>\n",
       "      <th>min_time</th>\n",
       "      <th>mean_time</th>\n",
       "      <th>max_time</th>\n",
       "      <th>standard_deviation</th>\n",
       "    </tr>\n",
       "    <tr>\n",
       "      <th>workers</th>\n",
       "      <th></th>\n",
       "      <th></th>\n",
       "      <th></th>\n",
       "      <th></th>\n",
       "      <th></th>\n",
       "    </tr>\n",
       "  </thead>\n",
       "  <tbody>\n",
       "    <tr>\n",
       "      <th>120.0</th>\n",
       "      <td>1.0</td>\n",
       "      <td>1.768117</td>\n",
       "      <td>2.619451</td>\n",
       "      <td>4.090172</td>\n",
       "      <td>0.738905</td>\n",
       "    </tr>\n",
       "  </tbody>\n",
       "</table>\n",
       "</div>"
      ],
      "text/plain": [
       "         success  min_time  mean_time  max_time  standard_deviation\n",
       "workers                                                            \n",
       "120.0        1.0  1.768117   2.619451  4.090172            0.738905"
      ]
     },
     "execution_count": 7,
     "metadata": {},
     "output_type": "execute_result"
    }
   ],
   "source": [
    "# two endpoints BS = 1\n",
    "stats\n"
   ]
  },
  {
   "cell_type": "code",
   "execution_count": 8,
   "metadata": {},
   "outputs": [
    {
     "data": {
      "text/plain": [
       "workers\n",
       "120.0    4.090172\n",
       "Name: response_time, dtype: float64"
      ]
     },
     "execution_count": 8,
     "metadata": {},
     "output_type": "execute_result"
    }
   ],
   "source": [
    "df.groupby(\"workers\").max()[\"response_time\"]"
   ]
  },
  {
   "cell_type": "markdown",
   "metadata": {},
   "source": [
    "Old results before parallelization \n",
    "\n",
    "|workers|response_time|success|\n",
    "|---|---|---|\n",
    "|1| 11.378659|1.000000|\n",
    "|2\t|19.046033\t|1.000000|\n",
    "|4\t|40.281013|\t1.000000|\n",
    "|8|\t84.252928\t|1.000000|\n",
    "|16\t|164.951096|\t1.000000|\n",
    "|32|\t327.317170|\t1.000000|\n",
    "|64|\t655.830740|\t1.000000|\n",
    "|128\t|40.344384\t|0.014354|\n",
    "|256|\t28.654330|\t0.000000|\n",
    "|512|\t0.294644|\t0.000000|"
   ]
  }
 ],
 "metadata": {
  "interpreter": {
   "hash": "916dbcbb3f70747c44a77c7bcd40155683ae19c65e1c03b4aa3499c5328201f1"
  },
  "kernelspec": {
   "display_name": "Python 3.8.10 64-bit",
   "name": "python3"
  },
  "language_info": {
   "codemirror_mode": {
    "name": "ipython",
    "version": 3
   },
   "file_extension": ".py",
   "mimetype": "text/x-python",
   "name": "python",
   "nbconvert_exporter": "python",
   "pygments_lexer": "ipython3",
   "version": "3.9.7"
  }
 },
 "nbformat": 4,
 "nbformat_minor": 5
}
