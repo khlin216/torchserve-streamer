{
 "cells": [
  {
   "cell_type": "code",
   "execution_count": 1,
   "metadata": {},
   "outputs": [],
   "source": [
    "import torch, torch.nn as nn\n",
    "import timm\n",
    "import torch.autograd.profiler as profiler\n",
    "from einops import reduce, rearrange, repeat\n",
    "import numpy as np"
   ]
  },
  {
   "cell_type": "code",
   "execution_count": 2,
   "metadata": {},
   "outputs": [],
   "source": [
    "from triangle_cornermap_segment import TrianglePatchSegment, SimplePatchCornerModule"
   ]
  },
  {
   "cell_type": "code",
   "execution_count": 3,
   "metadata": {},
   "outputs": [],
   "source": [
    "data = torch.randn(1,3,64,64)"
   ]
  },
  {
   "cell_type": "code",
   "execution_count": null,
   "metadata": {},
   "outputs": [],
   "source": [
    "mdl = timm.create_model(\"resnet18\", pretrained=True, num_classes=0, features_only=True, global_pool='', out_indices=(1,))\n",
    "%timeit mdl(data)"
   ]
  },
  {
   "cell_type": "code",
   "execution_count": null,
   "metadata": {},
   "outputs": [],
   "source": [
    "for name, mod in mdl.named_modules():\n",
    "    if ininstance"
   ]
  },
  {
   "cell_type": "code",
   "execution_count": 4,
   "metadata": {},
   "outputs": [
    {
     "name": "stdout",
     "output_type": "stream",
     "text": [
      "16.6 ms ± 223 µs per loop (mean ± std. dev. of 7 runs, 100 loops each)\n"
     ]
    }
   ],
   "source": [
    "from tiny_selfattention_model import SelfAttentionModel\n",
    "d = torch.randn(1,3,64,64)\n",
    "m = SelfAttentionModel()\n",
    "%timeit m(d)"
   ]
  },
  {
   "cell_type": "code",
   "execution_count": null,
   "metadata": {},
   "outputs": [],
   "source": [
    "coremodel = TrianglePatchSegment(backbone='resnet18')\n",
    "coremodel.eval()\n",
    "%timeit coremodel(data)"
   ]
  },
  {
   "cell_type": "code",
   "execution_count": null,
   "metadata": {
    "scrolled": false
   },
   "outputs": [],
   "source": [
    "coremodel_nostride = TrianglePatchSegment(backbone='resnet18', set_stride_to1=True, outlevel=1)\n",
    "# coremodel_nostride.feature_extractor.feature_info.channels()\n",
    "%timeit coremodel_nostride(data)"
   ]
  },
  {
   "cell_type": "code",
   "execution_count": null,
   "metadata": {},
   "outputs": [],
   "source": [
    "from tiny_selfattention_model import ConvBlock\n",
    "c = ConvBlock(3, 64, 8)\n",
    "%timeit c(data)"
   ]
  },
  {
   "cell_type": "code",
   "execution_count": null,
   "metadata": {},
   "outputs": [],
   "source": [
    "out = c(data)\n",
    "out.shape"
   ]
  },
  {
   "cell_type": "code",
   "execution_count": null,
   "metadata": {},
   "outputs": [],
   "source": [
    "q = torch.randn(64,64)\n",
    "k = torch.randn(64,64)\n",
    "v = torch.randn(64,64)\n",
    "%timeit val = self_attention(q,k,v)\n"
   ]
  },
  {
   "cell_type": "code",
   "execution_count": null,
   "metadata": {},
   "outputs": [],
   "source": [
    "from attrdict import AttrDict\n",
    "args = AttrDict()\n",
    "args.backbone = 'tv_resnet34'\n",
    "# lightmod = SimplePatchCornerModule(args)\n",
    "# lightmod = SimplePatchCornerModule.load_from_checkpoint('D:/re-search/vod_triangles/src/Colab_logs/checkpoints/epoch=2-step=15000.ckpt', args)\n",
    "# lightmod = lightmod.eval()"
   ]
  },
  {
   "cell_type": "code",
   "execution_count": null,
   "metadata": {},
   "outputs": [],
   "source": [
    "model = SimplePatchCornerModule(args)\n",
    "# model.load_state_dict(x['state_dict'])\n",
    "%timeit model(data)"
   ]
  },
  {
   "cell_type": "code",
   "execution_count": null,
   "metadata": {},
   "outputs": [],
   "source": [
    "coremodel = TrianglePatchSegment(backbone='tv_resnet34')\n",
    "coremodel.eval()\n",
    "# %timeit coremodel(data)\n",
    "# coremodel.double()\n",
    "# data = data.double()\n",
    "\n",
    "%timeit coremodel(data)\n",
    "\n",
    "with profiler.profile(with_stack=True, profile_memory=True) as scprof:\n",
    "    out = coremodel(data)\n",
    "\n",
    "# print(scprof.key_averages(group_by_stack_n=5).table(sort_by='self_cpu_time_total', row_limit=5))"
   ]
  },
  {
   "cell_type": "code",
   "execution_count": null,
   "metadata": {},
   "outputs": [],
   "source": [
    "device = torch.device('cpu')\n",
    "x = torch.load('D:/re-search/vod_triangles/src/Colab_logs/checkpoints/epoch=2-step=12000.ckpt', map_location=device)\n",
    "print(list(x.keys()))"
   ]
  },
  {
   "cell_type": "code",
   "execution_count": null,
   "metadata": {},
   "outputs": [],
   "source": [
    "sd = x['state_dict']\n",
    "new_sd = {}\n",
    "\n",
    "ckptvals = []\n",
    "for k, v in sd.items():\n",
    "    if 'batches' not in k and 'bce_loss' not in k:\n",
    "#         if 'bn' in k:\n",
    "#         v[torch.logical_and(v > -1e-16, v < 1e-16)] = 0.\n",
    "#         new_sd[k[6:]] = v\n",
    "\n",
    "        if torch.any(torch.logical_and(v > -1e-16, v < 1e-16)):\n",
    "            val = v[torch.logical_and(v > -1e-16, v < 1e-16)]\n",
    "#             print(k, val[:5])"
   ]
  },
  {
   "cell_type": "code",
   "execution_count": null,
   "metadata": {},
   "outputs": [],
   "source": [
    "data = torch.randn(1,3,64,64)\n",
    "len(new_sd)"
   ]
  },
  {
   "cell_type": "code",
   "execution_count": null,
   "metadata": {},
   "outputs": [],
   "source": [
    "coremodel.load_state_dict(new_sd, strict=False)\n",
    "coremodel.eval()\n",
    "\n",
    "%timeit coremodel(data)\n",
    "\n",
    "with profiler.profile(with_stack=True, profile_memory=True) as prof:\n",
    "    out = coremodel(data)\n",
    "\n",
    "# print(prof.key_averages(group_by_stack_n=5).table(sort_by='self_cpu_time_total', row_limit=5))"
   ]
  },
  {
   "cell_type": "code",
   "execution_count": null,
   "metadata": {},
   "outputs": [],
   "source": [
    "%timeit model(data)"
   ]
  },
  {
   "cell_type": "code",
   "execution_count": null,
   "metadata": {},
   "outputs": [],
   "source": [
    "from mobile_unet import MobileUNet\n",
    "import torch\n",
    "x = torch.rand((1, 3, 64, 64))\n",
    "\n",
    "model = MobileUNet()\n",
    "%timeit out = model(x)"
   ]
  },
  {
   "cell_type": "code",
   "execution_count": null,
   "metadata": {},
   "outputs": [],
   "source": [
    "model"
   ]
  },
  {
   "cell_type": "code",
   "execution_count": 5,
   "metadata": {},
   "outputs": [],
   "source": [
    "class NonMaxSuppression(nn.Module):\n",
    "    def __init__(self, n_peaks=256):\n",
    "        super().__init__()\n",
    "        self.k = 3  # kernel\n",
    "        self.p = 1  # padding\n",
    "        self.s = 1  # stride\n",
    "        self.center_idx = self.k**2//2\n",
    "        self.sigmoid = nn.Sigmoid()\n",
    "        self.unfold = nn.Unfold(kernel_size=self.k, padding=self.p, stride=self.s)\n",
    "        self.n_peaks = n_peaks\n",
    "\n",
    "    def sample_peaks(self, x):\n",
    "        B, _, H, W = x.shape\n",
    "        for b in range(B):\n",
    "            x_b = x[b, 0]\n",
    "            idx = torch.topk(x_b.flatten(), self.n_peaks).indices\n",
    "            idx_i = torch.div(idx, W, rounding_mode='floor')\n",
    "            idx_j = idx % W\n",
    "            idx = torch.cat((idx_i.unsqueeze(1), idx_j.unsqueeze(1)), dim=1)\n",
    "            idx = idx.unsqueeze(0)\n",
    "\n",
    "            if b == 0:\n",
    "                graph = idx\n",
    "            else:\n",
    "                graph = torch.cat((graph, idx), dim=0)\n",
    "\n",
    "        return graph\n",
    "\n",
    "    def forward(self, feat):\n",
    "        B, C, H, W = feat.shape\n",
    "\n",
    "        x = self.sigmoid(feat)\n",
    "\n",
    "        # Prepare filter\n",
    "        f = self.unfold(x).view(B, self.k**2, H, W)\n",
    "        f = torch.argmax(f, dim=1).unsqueeze(1)\n",
    "        f = (f == self.center_idx).float()\n",
    "\n",
    "        # Apply filter\n",
    "        x = x * f\n",
    "\n",
    "        # Sample top peaks\n",
    "        graph = self.sample_peaks(x)\n",
    "        return x, graph"
   ]
  },
  {
   "cell_type": "code",
   "execution_count": 6,
   "metadata": {},
   "outputs": [
    {
     "name": "stdout",
     "output_type": "stream",
     "text": [
      "1.96 ms ± 62.6 µs per loop (mean ± std. dev. of 7 runs, 1 loop each)\n"
     ]
    }
   ],
   "source": [
    "nms = NonMaxSuppression()\n",
    "mask = torch.randn(1,1,64,64)\n",
    "%timeit nms(mask)"
   ]
  },
  {
   "cell_type": "code",
   "execution_count": 7,
   "metadata": {},
   "outputs": [],
   "source": [
    "x, graph = nms(mask)"
   ]
  },
  {
   "cell_type": "code",
   "execution_count": 8,
   "metadata": {},
   "outputs": [
    {
     "data": {
      "text/plain": [
       "torch.Size([1, 1, 64, 64])"
      ]
     },
     "execution_count": 8,
     "metadata": {},
     "output_type": "execute_result"
    }
   ],
   "source": [
    "x.shape"
   ]
  },
  {
   "cell_type": "code",
   "execution_count": 9,
   "metadata": {},
   "outputs": [
    {
     "data": {
      "text/plain": [
       "torch.Size([1, 256, 2])"
      ]
     },
     "execution_count": 9,
     "metadata": {},
     "output_type": "execute_result"
    }
   ],
   "source": [
    "graph.shape"
   ]
  },
  {
   "cell_type": "code",
   "execution_count": null,
   "metadata": {},
   "outputs": [],
   "source": []
  }
 ],
 "metadata": {
  "kernelspec": {
   "display_name": "Python 3 (ipykernel)",
   "language": "python",
   "name": "python3"
  },
  "language_info": {
   "codemirror_mode": {
    "name": "ipython",
    "version": 3
   },
   "file_extension": ".py",
   "mimetype": "text/x-python",
   "name": "python",
   "nbconvert_exporter": "python",
   "pygments_lexer": "ipython3",
   "version": "3.9.12"
  }
 },
 "nbformat": 4,
 "nbformat_minor": 2
}
